{
 "cells": [
  {
   "cell_type": "code",
   "execution_count": 3,
   "metadata": {},
   "outputs": [],
   "source": [
    "import numpy as np\n",
    "import pandas as pd\n",
    "import matplotlib.pyplot as plt\n",
    "%matplotlib inline"
   ]
  },
  {
   "cell_type": "code",
   "execution_count": 4,
   "metadata": {},
   "outputs": [],
   "source": [
    "from IPython.core.interactiveshell import InteractiveShell\n",
    "InteractiveShell.ast_node_interactivity='all'"
   ]
  },
  {
   "cell_type": "code",
   "execution_count": 5,
   "metadata": {},
   "outputs": [
    {
     "name": "stdout",
     "output_type": "stream",
     "text": [
      "Class 1: mean= 0 var= 1 \n",
      "\n"
     ]
    }
   ],
   "source": [
    "n=500\n",
    "mean1=0\n",
    "var1=1\n",
    "print('Class 1: mean=',mean1,'var=',var1,\"\\n\")"
   ]
  },
  {
   "cell_type": "code",
   "execution_count": 6,
   "metadata": {},
   "outputs": [
    {
     "name": "stdout",
     "output_type": "stream",
     "text": [
      "Class 2: mean= 4 var= 1.5 \n",
      "\n"
     ]
    }
   ],
   "source": [
    "mean2=4\n",
    "var2=1.5\n",
    "print('Class 2: mean=',mean2,'var=',var2,\"\\n\")"
   ]
  },
  {
   "cell_type": "code",
   "execution_count": 7,
   "metadata": {},
   "outputs": [
    {
     "name": "stdout",
     "output_type": "stream",
     "text": [
      "Data:              x  y\n",
      "0   -0.188791  1\n",
      "1   -0.001143  1\n",
      "2   -1.568869  1\n",
      "3   -0.886150  1\n",
      "4    0.890289  1\n",
      "5   -0.722925  1\n",
      "6   -0.499027  1\n",
      "7   -2.100519  1\n",
      "8   -0.077139  1\n",
      "9   -0.442624  1\n",
      "10  -2.095058  1\n",
      "11   2.286901  1\n",
      "12   0.988595  1\n",
      "13  -0.499982  1\n",
      "14  -0.650052  1\n",
      "15  -1.072631  1\n",
      "16  -0.913829  1\n",
      "17  -0.274839  1\n",
      "18  -0.501340  1\n",
      "19   0.131191  1\n",
      "20   1.954915  1\n",
      "21  -0.472163  1\n",
      "22   0.703955  1\n",
      "23   1.401862  1\n",
      "24   1.163291  1\n",
      "25   2.062565  1\n",
      "26  -0.429399  1\n",
      "27   1.188867  1\n",
      "28  -0.788084  1\n",
      "29  -1.138496  1\n",
      "..        ... ..\n",
      "470  0.528879  2\n",
      "471  3.600851  2\n",
      "472  5.460929  2\n",
      "473  4.262069  2\n",
      "474  2.629747  2\n",
      "475  5.259891  2\n",
      "476  3.376543  2\n",
      "477  3.288182  2\n",
      "478  3.578990  2\n",
      "479  2.792727  2\n",
      "480  4.380824  2\n",
      "481  3.925335  2\n",
      "482  4.827899  2\n",
      "483  4.802317  2\n",
      "484  4.162252  2\n",
      "485  2.206182  2\n",
      "486  4.822886  2\n",
      "487  5.032015  2\n",
      "488  5.371181  2\n",
      "489  4.096906  2\n",
      "490  2.406383  2\n",
      "491  5.542549  2\n",
      "492  0.946971  2\n",
      "493  6.833934  2\n",
      "494  6.912503  2\n",
      "495  3.586931  2\n",
      "496  1.863315  2\n",
      "497  3.521624  2\n",
      "498 -0.300590  2\n",
      "499  5.011603  2\n",
      "\n",
      "[1000 rows x 2 columns]\n"
     ]
    }
   ],
   "source": [
    "class1_feature=np.random.normal(loc=mean1,scale=var1,size=n)\n",
    "#print(\"Covariate 1:\\n\",x1,\"\\n\")\n",
    "class1_lable=np.ones(shape=n,dtype=np.int8)\n",
    "data1=pd.DataFrame({'x':class1_feature,'y':class1_lable})\n",
    "\n",
    "class2_feature=np.random.normal(loc=mean2,scale=var2,size=n)\n",
    "#print(\"Covariate 2:\\n\",x2,\"\\n\")\n",
    "class2_lable=class1_lable+1\n",
    "data2=pd.DataFrame({'x':class2_feature,'y':class2_lable})\n",
    "\n",
    "data=pd.concat([data1,data2],axis=0)\n",
    "print(\"Data: \",data)"
   ]
  },
  {
   "cell_type": "code",
   "execution_count": 8,
   "metadata": {},
   "outputs": [
    {
     "data": {
      "text/plain": [
       "<Figure size 864x576 with 0 Axes>"
      ]
     },
     "execution_count": 8,
     "metadata": {},
     "output_type": "execute_result"
    },
    {
     "data": {
      "text/plain": [
       "<matplotlib.collections.PathCollection at 0x118865ba8>"
      ]
     },
     "execution_count": 8,
     "metadata": {},
     "output_type": "execute_result"
    },
    {
     "data": {
      "image/png": "[encoded data removed]",
      "text/plain": [
       "<Figure size 864x576 with 1 Axes>"
      ]
     },
     "metadata": {
      "needs_background": "light"
     },
     "output_type": "display_data"
    }
   ],
   "source": [
    "data = np.array(data)\n",
    "plt.figure(figsize = (12,8))\n",
    "plt.scatter(data[:,0], data[:,1], c = data[:,1], alpha = .1)"
   ]
  },
  {
   "cell_type": "code",
   "execution_count": null,
   "metadata": {},
   "outputs": [],
   "source": [
    "from sklearn.linear_model import LogisticRegression\n",
    "from sklearn import metrics\n",
    "X = data[:,0]\n",
    "y = data[\"y\"]\n"
   ]
  }
 ],
 "metadata": {
  "kernelspec": {
   "display_name": "Python 3",
   "language": "python",
   "name": "python3"
  },
  "language_info": {
   "codemirror_mode": {
    "name": "ipython",
    "version": 3
   },
   "file_extension": ".py",
   "mimetype": "text/x-python",
   "name": "python",
   "nbconvert_exporter": "python",
   "pygments_lexer": "ipython3",
   "version": "3.7.1"
  }
 },
 "nbformat": 4,
 "nbformat_minor": 2
}
