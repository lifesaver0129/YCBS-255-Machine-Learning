{
 "cells": [
  {
   "cell_type": "markdown",
   "metadata": {},
   "source": [
    "# Dimension Reduction\n",
    "\n",
    "Nowadays, a lot of attributes are recorded for an individual. In order to fit a simple model, some sort of dimension reduction seems necessary. Mathematically dimension reduction is projection of data into a lower dimensional space. There are various reasons why dimension reduction is an interesting technique. For example :\n",
    "\n",
    "- Can be used for data visualization in high-dimensions.\n",
    "- The reduced dimensions can be used as new attributes for a better prediction.\n",
    "\n"
   ]
  },
  {
   "cell_type": "markdown",
   "metadata": {},
   "source": [
    "## 1-Visualization\n",
    "\n",
    "### Zip Code dataset"
   ]
  },
  {
   "cell_type": "code",
   "execution_count": 1,
   "metadata": {},
   "outputs": [],
   "source": [
    "import pandas as pd\n",
    "import numpy as np\n",
    "import matplotlib.pyplot as plt\n",
    "%matplotlib inline"
   ]
  },
  {
   "cell_type": "code",
   "execution_count": 3,
   "metadata": {},
   "outputs": [],
   "source": [
    "path = 'data/'\n",
    "#filename = path + 'ziptrain.csv'\n",
    "zipdata = np.loadtxt(\"data/ziptrain.csv\")"
   ]
  },
  {
   "cell_type": "code",
   "execution_count": 4,
   "metadata": {},
   "outputs": [
    {
     "data": {
      "text/plain": [
       "(7291, 257)"
      ]
     },
     "execution_count": 4,
     "metadata": {},
     "output_type": "execute_result"
    }
   ],
   "source": [
    "zipdata.shape"
   ]
  },
  {
   "cell_type": "markdown",
   "metadata": {},
   "source": [
    "The first column is the digit, the remaining 256 are pixes of a 16X16 grayscale image. Let's visualize the first row (image)."
   ]
  },
  {
   "cell_type": "code",
   "execution_count": 5,
   "metadata": {},
   "outputs": [
    {
     "data": {
      "text/plain": [
       "<matplotlib.image.AxesImage at 0x7ff979addeb8>"
      ]
     },
     "execution_count": 5,
     "metadata": {},
     "output_type": "execute_result"
    },
    {
     "data": {
      "image/png": "[encoded data removed]",
      "text/plain": [
       "<Figure size 432x288 with 1 Axes>"
      ]
     },
     "metadata": {},
     "output_type": "display_data"
    }
   ],
   "source": [
    "plt.imshow(zipdata[0, 1:].reshape(16,16), \"gray\")"
   ]
  },
  {
   "cell_type": "markdown",
   "metadata": {},
   "source": [
    "By taking the opposite values, we get the opposite gray scale representation."
   ]
  },
  {
   "cell_type": "code",
   "execution_count": null,
   "metadata": {},
   "outputs": [],
   "source": [
    "plt.imshow(-zipdata[0, 1:].reshape(16,16), \"gray\")"
   ]
  },
  {
   "cell_type": "markdown",
   "metadata": {},
   "source": [
    "Check if the associated label is a 6."
   ]
  },
  {
   "cell_type": "code",
   "execution_count": null,
   "metadata": {},
   "outputs": [],
   "source": [
    "zipdata[0,0] == 6"
   ]
  },
  {
   "cell_type": "markdown",
   "metadata": {},
   "source": [
    "We can check the second image also.."
   ]
  },
  {
   "cell_type": "code",
   "execution_count": null,
   "metadata": {},
   "outputs": [],
   "source": [
    "plt.imshow(-zipdata[1, 1:].reshape(16,16), \"gray\")"
   ]
  },
  {
   "cell_type": "code",
   "execution_count": null,
   "metadata": {},
   "outputs": [],
   "source": [
    "zipdata[1,0]"
   ]
  },
  {
   "cell_type": "markdown",
   "metadata": {},
   "source": [
    "... and it is a 5."
   ]
  },
  {
   "cell_type": "markdown",
   "metadata": {},
   "source": [
    "It is important that you feel comfortable with numpy arrays: concatenating, deleting, reshaping, etc. Here I provide you some examples. Let's select images that only contain value 3, and visualize a random sample of such images."
   ]
  },
  {
   "cell_type": "code",
   "execution_count": null,
   "metadata": {},
   "outputs": [],
   "source": [
    "zipdata3 = zipdata[zipdata[:, 0] == 3]\n",
    "zipdata3.shape"
   ]
  },
  {
   "cell_type": "markdown",
   "metadata": {},
   "source": [
    "Only 658 samples are 3. Let's visualize a random sample of them of size 20."
   ]
  },
  {
   "cell_type": "code",
   "execution_count": null,
   "metadata": {},
   "outputs": [],
   "source": [
    "np.random.seed(1)\n",
    "random3 = np.random.choice(range(len(zipdata3)), size=20, replace = False)\n",
    "\n",
    "print(random3)\n",
    "#gives you the index of the selected random images"
   ]
  },
  {
   "cell_type": "code",
   "execution_count": null,
   "metadata": {},
   "outputs": [],
   "source": [
    "zipdata3stack = zipdata3[random3[0], 1:].reshape(16, 16)\n",
    "print(zipdata3stack)\n",
    "plt.imshow(-zipdata3stack,\"gray\");\n",
    "plt.axis(\"off\");"
   ]
  },
  {
   "cell_type": "code",
   "execution_count": null,
   "metadata": {},
   "outputs": [],
   "source": [
    "for i in range(1,len(random3)):\n",
    "    zipdata3stack = np.hstack((zipdata3stack, zipdata3[random3[i],1:].reshape(16, 16)))\n",
    "\n",
    "plt.imshow(-zipdata3stack,\"gray\");\n",
    "plt.axis(\"off\");"
   ]
  },
  {
   "cell_type": "code",
   "execution_count": null,
   "metadata": {},
   "outputs": [],
   "source": [
    "# You may want to plot vertically\n",
    "# This is a more clever coding, we do not need  \"for\" loop\n",
    "plt.imshow(-zipdata3[random3,1:].reshape(320,16),\"gray\");\n",
    "plt.axis(\"off\");"
   ]
  },
  {
   "cell_type": "markdown",
   "metadata": {},
   "source": [
    "### Subset of the dataset: digits 3 and 8\n",
    "\n",
    "Let's create a classification problem. The goal is to classify 3 and 8 images."
   ]
  },
  {
   "cell_type": "code",
   "execution_count": null,
   "metadata": {},
   "outputs": [],
   "source": [
    "zipdata8 = zipdata[zipdata[:, 0] == 8]\n",
    "zipdata8.shape"
   ]
  },
  {
   "cell_type": "code",
   "execution_count": null,
   "metadata": {},
   "outputs": [],
   "source": [
    "zipdata38 = np.vstack([zipdata3, zipdata8])\n",
    "zipdata38.shape"
   ]
  },
  {
   "cell_type": "markdown",
   "metadata": {},
   "source": [
    "### Principal Component Analysis (PCA)"
   ]
  },
  {
   "cell_type": "code",
   "execution_count": null,
   "metadata": {},
   "outputs": [],
   "source": [
    "from sklearn.decomposition import PCA"
   ]
  },
  {
   "cell_type": "code",
   "execution_count": null,
   "metadata": {},
   "outputs": [],
   "source": [
    "pca = PCA(n_components=2)\n",
    "\n",
    "# remove the first column (image label)\n",
    "pca.fit(zipdata38[:, 1:])"
   ]
  },
  {
   "cell_type": "code",
   "execution_count": null,
   "metadata": {},
   "outputs": [],
   "source": [
    "Z = pca.transform(zipdata38[:,1:])"
   ]
  },
  {
   "cell_type": "code",
   "execution_count": null,
   "metadata": {},
   "outputs": [],
   "source": [
    "plt.scatter(Z[:,0], Z[:,1], c= zipdata38[:,0], alpha=0.3);"
   ]
  },
  {
   "cell_type": "code",
   "execution_count": null,
   "metadata": {},
   "outputs": [],
   "source": [
    "#This representation is much more clear than what we can do with the original 256 pixels (covariates)\n",
    "#plt.scatter(zipdata38[:,100], zipdata38[:,200], c= zipdata38[:,0], alpha=0.3);"
   ]
  },
  {
   "cell_type": "markdown",
   "metadata": {},
   "source": [
    "We can make it a little bit more visual with the following lines of code."
   ]
  },
  {
   "cell_type": "code",
   "execution_count": null,
   "metadata": {},
   "outputs": [],
   "source": [
    "plt.scatter(Z[zipdata38[:,0]==3,0], Z[zipdata38[:,0]==3,1], marker='$3$', \n",
    "            color='blue', alpha = 0.3);\n",
    "\n",
    "plt.scatter(Z[zipdata38[:,0]==8,0], Z[zipdata38[:,0]==8,1], marker='$8$', \n",
    "            color='red', alpha = 0.3);\n",
    "\n",
    "plt.xlim([-10,10])\n",
    "plt.ylim([-10,10])"
   ]
  },
  {
   "cell_type": "markdown",
   "metadata": {},
   "source": [
    "### Binary Classification on PC1 and PC2"
   ]
  },
  {
   "cell_type": "code",
   "execution_count": null,
   "metadata": {},
   "outputs": [],
   "source": [
    "from sklearn.linear_model import LinearRegression\n",
    "lr = LinearRegression()\n",
    "predictors = Z\n",
    "outcome = (zipdata38[:,0] > 4)*1\n",
    "lr.fit(predictors, outcome)"
   ]
  },
  {
   "cell_type": "code",
   "execution_count": null,
   "metadata": {},
   "outputs": [],
   "source": [
    "print(lr.intercept_, lr.coef_)"
   ]
  },
  {
   "cell_type": "code",
   "execution_count": null,
   "metadata": {},
   "outputs": [],
   "source": [
    "plt.scatter(Z[zipdata38[:,0]==3,0], Z[zipdata38[:,0]==3,1], marker='$3$', \n",
    "            color='blue', alpha = 0.3);\n",
    "\n",
    "plt.scatter(Z[zipdata38[:,0]==8,0], Z[zipdata38[:,0]==8,1], marker='$8$', \n",
    "            color='red', alpha = 0.3);\n",
    "\n",
    "pred = np.linspace(start = -10, stop = 10, num= 100)\n",
    "plt.plot(pred, -(lr.coef_[0]/lr.coef_[1]) * pred, \"-k\")\n",
    "\n",
    "plt.xlim([-10,10])\n",
    "plt.ylim([-10,10])"
   ]
  },
  {
   "cell_type": "markdown",
   "metadata": {},
   "source": [
    "### Auto dataset"
   ]
  },
  {
   "cell_type": "code",
   "execution_count": null,
   "metadata": {},
   "outputs": [],
   "source": [
    "import pandas as pd\n",
    "import numpy as np\n",
    "import matplotlib.pyplot as plt\n",
    "%matplotlib inline"
   ]
  },
  {
   "cell_type": "code",
   "execution_count": null,
   "metadata": {},
   "outputs": [],
   "source": [
    "path='data/'\n",
    "filename = path+'Auto.csv'\n",
    "auto = pd.read_csv(filename, na_values=['?'], na_filter=True)\n",
    "auto = auto.dropna()"
   ]
  },
  {
   "cell_type": "code",
   "execution_count": null,
   "metadata": {},
   "outputs": [],
   "source": [
    "auto.head()"
   ]
  },
  {
   "cell_type": "code",
   "execution_count": null,
   "metadata": {},
   "outputs": [],
   "source": [
    "# only quantitative variables\n",
    "X = auto[['cylinders', 'displacement', 'horsepower', 'weight', 'acceleration']]\n",
    "y = auto['mpg']"
   ]
  },
  {
   "cell_type": "markdown",
   "metadata": {},
   "source": [
    "First, fit a PCA on original values"
   ]
  },
  {
   "cell_type": "code",
   "execution_count": null,
   "metadata": {},
   "outputs": [],
   "source": [
    "from sklearn.decomposition import PCA\n",
    "pca = PCA(n_components=2)\n",
    "pca.fit(X.values)\n",
    "Z = pca.transform(X)"
   ]
  },
  {
   "cell_type": "code",
   "execution_count": null,
   "metadata": {},
   "outputs": [],
   "source": [
    "plt.scatter(Z[:,0], Z[:,1]);"
   ]
  },
  {
   "cell_type": "markdown",
   "metadata": {},
   "source": [
    "Then, work with standardized values"
   ]
  },
  {
   "cell_type": "code",
   "execution_count": null,
   "metadata": {},
   "outputs": [],
   "source": [
    "from sklearn.preprocessing import scale\n",
    "X_std = scale(X.values)\n",
    "pca_std = PCA(n_components=2)\n",
    "pca_std.fit(X_std)\n",
    "Z_std = pca_std.transform(X_std)"
   ]
  },
  {
   "cell_type": "code",
   "execution_count": null,
   "metadata": {},
   "outputs": [],
   "source": [
    "plt.scatter(Z_std[:,0], Z_std[:,1]);"
   ]
  },
  {
   "cell_type": "markdown",
   "metadata": {},
   "source": [
    "Now Z includes a summary of all variables in X only in two dimensions. Further more, principal components of the data matrix and the standardized data matrix are different."
   ]
  },
  {
   "cell_type": "markdown",
   "metadata": {},
   "source": [
    "## 2-Principal Component Regression\n",
    "We may use principal components as attributes to feed a linear regression. Often it provides a better prediction in low dimensions.\n"
   ]
  },
  {
   "cell_type": "code",
   "execution_count": null,
   "metadata": {},
   "outputs": [],
   "source": [
    "from sklearn.linear_model import LinearRegression\n",
    "lr = LinearRegression()\n",
    "X_simple = X[['horsepower']]\n",
    "lr.fit(X_simple,y)"
   ]
  },
  {
   "cell_type": "code",
   "execution_count": null,
   "metadata": {},
   "outputs": [],
   "source": [
    "lr.score(X_simple, y)"
   ]
  },
  {
   "cell_type": "code",
   "execution_count": null,
   "metadata": {},
   "outputs": [],
   "source": [
    "pcr = LinearRegression()\n",
    "Z_simple = Z[:,0].reshape(-1,1)\n",
    "pcr.fit(Z_simple, y)"
   ]
  },
  {
   "cell_type": "code",
   "execution_count": null,
   "metadata": {},
   "outputs": [],
   "source": [
    "pcr.score(Z_simple,y)"
   ]
  },
  {
   "cell_type": "markdown",
   "metadata": {},
   "source": [
    "So, the R squared increased when using the first principal component instead of horsepower variable for fitting a simple linear regression."
   ]
  },
  {
   "cell_type": "markdown",
   "metadata": {},
   "source": [
    "### Cross-Validation"
   ]
  },
  {
   "cell_type": "markdown",
   "metadata": {},
   "source": [
    "The PCA we defined in the above code was arbitrarely a projection onto a space of dimension 2. In practice, we will choose the best projection dimension $M$ with cross-validation."
   ]
  },
  {
   "cell_type": "code",
   "execution_count": null,
   "metadata": {},
   "outputs": [],
   "source": [
    "pca = PCA()\n",
    "X_reduced = pca.fit_transform(scale(X))\n",
    "X.shape"
   ]
  },
  {
   "cell_type": "code",
   "execution_count": null,
   "metadata": {},
   "outputs": [],
   "source": [
    "X_reduced.shape"
   ]
  },
  {
   "cell_type": "code",
   "execution_count": null,
   "metadata": {},
   "outputs": [],
   "source": [
    "pd.DataFrame(X_reduced).head()"
   ]
  },
  {
   "cell_type": "code",
   "execution_count": null,
   "metadata": {},
   "outputs": [],
   "source": [
    "from sklearn import model_selection"
   ]
  },
  {
   "cell_type": "code",
   "execution_count": null,
   "metadata": {},
   "outputs": [],
   "source": [
    "# 10-fold CV, with shuffle\n",
    "n = len(X_reduced)\n",
    "kf_10 = model_selection.KFold(n_splits=10, shuffle=True)\n",
    "\n",
    "regr = LinearRegression()\n",
    "r2 = []\n",
    "\n",
    "# Calculate MSE with only the intercept (no principal components in regression)\n",
    "score = model_selection.cross_val_score(regr, np.ones((n,1)), y.ravel(), cv=kf_10, \\\n",
    "                                           scoring='r2').mean()    \n",
    "r2.append(score)\n",
    "\n",
    "# Calculate MSE using CV for the 5 principle components, adding one component at the time.\n",
    "for i in np.arange(1, 6):\n",
    "    score = model_selection.cross_val_score(regr, X_reduced[:,:i], y.ravel(), cv=kf_10, \\\n",
    "                                               scoring='r2').mean()\n",
    "    r2.append(score)\n",
    "    \n",
    "# Plot results    \n",
    "plt.plot(r2, '-v')\n",
    "plt.xlabel('Number of principal components in regression')\n",
    "plt.ylabel('R Squared')\n",
    "plt.title('mpg');"
   ]
  },
  {
   "cell_type": "markdown",
   "metadata": {},
   "source": [
    "We see that the largest cross-validation $R^2$ occurs when  $M=5$  components are used, which amounts to simply performing least squares, because when all of the components are used in PCR no dimension reduction occurs. However, from the plot we also see that the cross-validation error is roughly the same when only one component is included in the model. This suggests that a model that uses just a small number of components might suffice."
   ]
  },
  {
   "cell_type": "code",
   "execution_count": null,
   "metadata": {},
   "outputs": [],
   "source": [
    "#We'll do a little math to get the amount of variance explained by adding each consecutive principal component:\n",
    "\n",
    "np.cumsum(np.round(pca.explained_variance_ratio_, decimals=2)*100)"
   ]
  },
  {
   "cell_type": "markdown",
   "metadata": {},
   "source": [
    "We'll dig deeper into this concept later, but for now we can think of this as the amount of information about the predictors or the response that is captured using  $M$ principal components. For example, setting  $M=1$ captures $81\\%$ of all the variance, or information, in the predictors. In contrast, using  $M=2$  increases the value to $95\\%$. If we were to use all  $M=p=5$  components, this would increase to 100%."
   ]
  },
  {
   "cell_type": "markdown",
   "metadata": {},
   "source": [
    "### Prediction\n",
    "\n",
    "Now let's perform PCA on the training data and evaluate its test set performance."
   ]
  },
  {
   "cell_type": "code",
   "execution_count": null,
   "metadata": {},
   "outputs": [],
   "source": [
    "pca2 = PCA()\n",
    "\n",
    "# Split into training and test sets\n",
    "X_train, X_test , y_train, y_test = model_selection.train_test_split(X, y, test_size=0.5, random_state=1)\n",
    "\n",
    "# Scale the data\n",
    "X_reduced_train = pca2.fit_transform(scale(X_train))\n",
    "n = len(X_reduced_train)\n",
    "\n",
    "# 10-fold CV, with shuffle\n",
    "kf_10 = model_selection.KFold(n_splits=10, shuffle=True, random_state=1)\n",
    "\n",
    "r2 = []\n",
    "\n",
    "# Calculate R2 with only the intercept (no principal components in regression)\n",
    "score = model_selection.cross_val_score(regr, np.ones((n,1)), y_train.ravel(), cv=kf_10, \\\n",
    "                                           scoring='r2').mean()    \n",
    "r2.append(score)\n",
    "\n",
    "# Calculate R2 using CV for the 5 principal components, adding one component at the time.\n",
    "for i in np.arange(1, 6):\n",
    "    score = model_selection.cross_val_score(regr, X_reduced_train[:,:i], y_train.ravel(), cv=kf_10, \\\n",
    "                                             scoring='r2').mean()\n",
    "    r2.append(score)\n",
    "\n",
    "    \n",
    "plt.plot(np.array(r2), '-v')\n",
    "plt.xlabel('Number of principal components in regression')\n",
    "plt.ylabel('R Squared')\n",
    "plt.title('mpg');"
   ]
  },
  {
   "cell_type": "markdown",
   "metadata": {},
   "source": [
    "We find that the highest cross-validation $R^2$ occurs when  $M=3$ components are used. Now we'll see how it performs on the test data and compute the test $R^2$."
   ]
  },
  {
   "cell_type": "code",
   "execution_count": null,
   "metadata": {},
   "outputs": [],
   "source": [
    "M=3\n",
    "X_reduced_test = pca2.transform(scale(X_test))[:,:M]\n",
    "\n",
    "# Train regression model on training data \n",
    "regr = LinearRegression()\n",
    "regr.fit(X_reduced_train[:,:M], y_train)\n",
    "\n",
    "# R squared on test data\n",
    "print(\"R Squared:\", regr.score(X_reduced_test, y_test))"
   ]
  },
  {
   "cell_type": "code",
   "execution_count": null,
   "metadata": {},
   "outputs": [],
   "source": [
    "from sklearn.metrics import mean_squared_error\n",
    "pred = regr.predict(X_reduced_test)\n",
    "print(\"MSE:\", mean_squared_error(y_test, pred))"
   ]
  },
  {
   "cell_type": "markdown",
   "metadata": {},
   "source": [
    "### Comparison with Ridge"
   ]
  },
  {
   "cell_type": "code",
   "execution_count": null,
   "metadata": {},
   "outputs": [],
   "source": [
    "from sklearn.linear_model import Ridge"
   ]
  },
  {
   "cell_type": "code",
   "execution_count": null,
   "metadata": {},
   "outputs": [],
   "source": [
    "# Fit a Ridge regression with arbitrary regularization constant, take 0.005 for example\n",
    "rr = Ridge(alpha=0.005, normalize=True)\n",
    "rr.fit(X_train, y_train) \n",
    "\n",
    "# Predict on the test set and compute MSE\n",
    "rr_pred = rr.predict(X_test)\n",
    "print(\"R Squared:\", rr.score(X_test, y_test))\n",
    "print(\"MSE:\", mean_squared_error(y_test, rr_pred))"
   ]
  },
  {
   "cell_type": "markdown",
   "metadata": {},
   "source": [
    "The test set MSE for PCR is competitive with the results obtained using ridge regression. However, as a result of the way PCR is implemented, the final model is more difficult to interpret because it does not perform any kind of variable selection or even directly produce coefficient estimates."
   ]
  },
  {
   "cell_type": "markdown",
   "metadata": {},
   "source": [
    "## 3-Partial Least Squares\n",
    "It makes sense if we want to project X matrix for predicting some y, to make the projection function of y. This can be regarded as the right projection method for linear regression. The PLS projection is a slightly different version of PCA: the algorithm takes account for y while projecting data.\n",
    "\n"
   ]
  },
  {
   "cell_type": "code",
   "execution_count": null,
   "metadata": {},
   "outputs": [],
   "source": [
    "from sklearn.cross_decomposition import PLSRegression\n",
    "pls = PLSRegression(n_components=2)\n",
    "pls.fit(X, y)\n",
    "W = pls.transform(X)"
   ]
  },
  {
   "cell_type": "code",
   "execution_count": null,
   "metadata": {},
   "outputs": [],
   "source": [
    "plt.scatter(W[:,0], W[:,1]);"
   ]
  },
  {
   "cell_type": "code",
   "execution_count": null,
   "metadata": {},
   "outputs": [],
   "source": [
    "pls.score(X,y)"
   ]
  },
  {
   "cell_type": "markdown",
   "metadata": {},
   "source": [
    "### Cross-Validation"
   ]
  },
  {
   "cell_type": "code",
   "execution_count": null,
   "metadata": {},
   "outputs": [],
   "source": [
    "n = len(X_train)\n",
    "\n",
    "# 10-fold CV, with shuffle\n",
    "kf_10 = model_selection.KFold(n_splits=10, shuffle=True, random_state=1)\n",
    "\n",
    "r2 = []\n",
    "\n",
    "for i in np.arange(1, 6):\n",
    "    pls = PLSRegression(n_components=i)\n",
    "    score = model_selection.cross_val_score(pls, scale(X_train), y_train, cv=kf_10, \\\n",
    "                                            scoring='r2').mean()\n",
    "    r2.append(score)\n",
    "\n",
    "# Plot results\n",
    "plt.plot(np.arange(1, 6), np.array(r2), '-v')\n",
    "plt.xlabel('Number of principal components in regression')\n",
    "plt.ylabel('R Squared')\n",
    "plt.title('mpg')"
   ]
  },
  {
   "cell_type": "code",
   "execution_count": null,
   "metadata": {},
   "outputs": [],
   "source": [
    "#Let's compute the R Squared and MSE on the test set for Partial Least Squares with M=3 components.\n",
    "\n",
    "pls = PLSRegression(n_components=3)\n",
    "pls.fit(scale(X_train), y_train)\n",
    "\n",
    "print(\"R Squared:\", pls.score(scale(X_test),y_test))\n",
    "print(\"MSE:\", mean_squared_error(y_test, pls.predict(scale(X_test))))"
   ]
  },
  {
   "cell_type": "markdown",
   "metadata": {},
   "source": [
    "### Summary"
   ]
  },
  {
   "cell_type": "code",
   "execution_count": null,
   "metadata": {},
   "outputs": [],
   "source": [
    "print(\"R Squared for PCR with M=3:\", round(regr.score(X_reduced_test, y_test),3))\n",
    "print(\"R Squared for PLS with M=3:\", round(pls.score(scale(X_test),y_test),3))\n",
    "print(\"R Squared for Ridge:\", round(rr.score(X_test, y_test),3))"
   ]
  }
 ],
 "metadata": {
  "kernelspec": {
   "display_name": "Python 3",
   "language": "python",
   "name": "python3"
  },
  "language_info": {
   "codemirror_mode": {
    "name": "ipython",
    "version": 3
   },
   "file_extension": ".py",
   "mimetype": "text/x-python",
   "name": "python",
   "nbconvert_exporter": "python",
   "pygments_lexer": "ipython3",
   "version": "3.6.5"
  }
 },
 "nbformat": 4,
 "nbformat_minor": 2
}
